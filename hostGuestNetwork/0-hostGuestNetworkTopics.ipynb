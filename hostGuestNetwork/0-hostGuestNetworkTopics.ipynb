{
 "cells": [
  {
   "cell_type": "code",
   "execution_count": 1,
   "metadata": {},
   "outputs": [],
   "source": [
    "import pandas as pd\n",
    "import re \n",
    "import numpy as np\n",
    "import networkx as nx"
   ]
  },
  {
   "cell_type": "code",
   "execution_count": 2,
   "metadata": {},
   "outputs": [],
   "source": [
    "#relevant paths \n",
    "allDataPath = \"/shared/3/projects/benlitterer/podcastData/processed/mayJune/mayJuneDataRoles.feather\"\n",
    "\n",
    "transcriptTopicsPath = \"/shared/3/projects/benlitterer/podcastData/topicModelling/40/transcripts/doc_topics.txt\"\n",
    "descTopicsPath = \"/shared/3/projects/benlitterer/podcastData/topicModelling/40/descriptions/doc_topics.txt\"\n",
    "\n",
    "transcriptKeysPath = \"/shared/3/projects/benlitterer/podcastData/topicModelling/40/transcripts/topic_keys.txt\"\n",
    "descKeysPath = \"/shared/3/projects/benlitterer/podcastData/topicModelling/40/descriptions/topic_keys.txt\"\n",
    "\n",
    "rjTopicsPath = \"/shared/3/projects/benlitterer/podcastData/topicModelling/200/transcripts/doc_topics.txt\"\n",
    "rjTopics = pd.read_csv(rjTopicsPath, sep=\"\\t\", header=None, index_col=0)"
   ]
  },
  {
   "cell_type": "code",
   "execution_count": 3,
   "metadata": {},
   "outputs": [],
   "source": [
    "#first just focus on merging topics onto dataframe \n",
    "#so read in podcast data \n",
    "#df = pd.read_json(allDataPath, orient=\"records\", lines=True)\n",
    "df = pd.read_feather(allDataPath)"
   ]
  },
  {
   "cell_type": "code",
   "execution_count": 67,
   "metadata": {},
   "outputs": [
    {
     "name": "stdout",
     "output_type": "stream",
     "text": [
      "predicted guests: 385932.0\n",
      "predicted hosts: 535355.0\n",
      "predicted neithers: 724631.0\n"
     ]
    }
   ],
   "source": [
    "print(f\"predicted guests: {sum(df['uniqueGuests'].fillna(0))}\")\n",
    "print(f\"predicted hosts: {sum(df['uniqueHosts'].fillna(0))}\") \n",
    "print(f\"predicted neithers: {sum(df['uniqueNeithers'].fillna(0))}\")"
   ]
  },
  {
   "cell_type": "code",
   "execution_count": 60,
   "metadata": {},
   "outputs": [
    {
     "data": {
      "text/plain": [
       "0    NaN\n",
       "1    NaN\n",
       "2    NaN\n",
       "3    NaN\n",
       "4    1.0\n",
       "Name: uniqueGuests, dtype: float64"
      ]
     },
     "execution_count": 60,
     "metadata": {},
     "output_type": "execute_result"
    }
   ],
   "source": [
    "df[\"uniqueGuests\"].head() "
   ]
  },
  {
   "cell_type": "code",
   "execution_count": 5,
   "metadata": {},
   "outputs": [],
   "source": [
    "N_TOPICS=40\n",
    "\n",
    "transcriptTopics = pd.read_csv(transcriptTopicsPath, sep=\"\\t\", header=None, index_col=0)\n",
    "transcriptTopics.columns = [\"potentialOutPath\"] + [\"transcript\" + str(item) for item in list(range(0, N_TOPICS))]\n",
    "\n",
    "descTopics = pd.read_csv(descTopicsPath, sep=\"\\t\", header=None, index_col=0)\n",
    "descTopics.columns = [\"potentialOutPath\"] + [\"desc\" + str(item) for item in list(range(0, N_TOPICS))]"
   ]
  },
  {
   "cell_type": "code",
   "execution_count": 6,
   "metadata": {},
   "outputs": [],
   "source": [
    "df = pd.merge(df,transcriptTopics, on=\"potentialOutPath\", how=\"left\")\n",
    "df = pd.merge(df, descTopics, on=\"potentialOutPath\", how=\"left\")"
   ]
  },
  {
   "cell_type": "code",
   "execution_count": 7,
   "metadata": {},
   "outputs": [
    {
     "name": "stdout",
     "output_type": "stream",
     "text": [
      "(1124058, 182)\n",
      "Index(['fullPotentialOutPath', 'transcript', 'potentialOutPath', 'rssUrl',\n",
      "       'epTitle', 'epDescription', 'duration', 'pubDate', 'itunes:type',\n",
      "       'itunes:complete',\n",
      "       ...\n",
      "       'desc30', 'desc31', 'desc32', 'desc33', 'desc34', 'desc35', 'desc36',\n",
      "       'desc37', 'desc38', 'desc39'],\n",
      "      dtype='object', length=182)\n"
     ]
    }
   ],
   "source": [
    "print(df.shape)\n",
    "print(df.columns)"
   ]
  },
  {
   "cell_type": "code",
   "execution_count": 8,
   "metadata": {},
   "outputs": [],
   "source": [
    "#group at the guest-level \n",
    "commonGuests = df[[\"rssUrl\", \"guestPredictedNames\", \"title\", \"podDescription\", \"epDescription\", \"category1\"]].explode(\"guestPredictedNames\")\n",
    "commonGuests = commonGuests.groupby(\"guestPredictedNames\").agg(set)\n",
    "newFeatures = {k:k + \"Guest\" for k in commonGuests.columns}\n",
    "commonGuests = commonGuests.reset_index().rename(columns=newFeatures)\n",
    "\n",
    "commonGuests[\"appearences\"] = commonGuests[\"titleGuest\"].apply(len)\n",
    "#commonGuests[commonGuests[\"appearences\"] > 1]\n",
    "\n",
    "commonGuests = commonGuests.rename(columns={\"guestPredictedNames\":\"guestName\"})"
   ]
  },
  {
   "cell_type": "code",
   "execution_count": 16,
   "metadata": {},
   "outputs": [
    {
     "name": "stdout",
     "output_type": "stream",
     "text": [
      "total guests: 281158\n"
     ]
    }
   ],
   "source": [
    "print(f\"total guests: {len(commonGuests)}\") "
   ]
  },
  {
   "cell_type": "code",
   "execution_count": 17,
   "metadata": {},
   "outputs": [],
   "source": [
    "#get total guest mentions\n",
    "#was using this to try and pick up on name frequency \n",
    "'''\n",
    "guestMentions = df[[\"neitherPredictedNames\", \"rssUrl\", \"title\", \"epTitle\"]].explode(\"neitherPredictedNames\").groupby(\"neitherPredictedNames\").agg(set)\n",
    "guestMentions[\"mentions\"] = guestMentions[\"rssUrl\"].apply(len)\n",
    "guestMentions = guestMentions.reset_index()\n",
    "guestMentions = guestMentions.rename(columns={\"neitherPredictedNames\":\"guestName\", \"rssUrl\":\"RSSneither\", \"title\":\"titleNeither\", \"guest\":\"guestNeither\"})\n",
    "commonGuests = pd.merge(commonGuests, guestMentions, on=\"guestName\", how=\"left\")\n",
    "'''\n",
    "#only keep rows with no special characters \n",
    "commonGuests = commonGuests[commonGuests[\"guestName\"].apply(lambda x: (re.search(\"[^a-zA-Z ]\", x) == None) == True)]"
   ]
  },
  {
   "cell_type": "code",
   "execution_count": 18,
   "metadata": {},
   "outputs": [
    {
     "name": "stdout",
     "output_type": "stream",
     "text": [
      "total guests: 268973\n"
     ]
    }
   ],
   "source": [
    "print(f\"total guests: {len(commonGuests)}\") "
   ]
  },
  {
   "cell_type": "code",
   "execution_count": 23,
   "metadata": {},
   "outputs": [
    {
     "name": "stdout",
     "output_type": "stream",
     "text": [
      "prob. df len: 385932\n"
     ]
    },
    {
     "name": "stderr",
     "output_type": "stream",
     "text": [
      "/tmp/ipykernel_2686696/173295249.py:29: SettingWithCopyWarning: \n",
      "A value is trying to be set on a copy of a slice from a DataFrame.\n",
      "Try using .loc[row_indexer,col_indexer] = value instead\n",
      "\n",
      "See the caveats in the documentation: https://pandas.pydata.org/pandas-docs/stable/user_guide/indexing.html#returning-a-view-versus-a-copy\n",
      "  guestPairs[\"jointProb\"] = guestPairs[\"guestName\"].apply(getJointProb)\n"
     ]
    },
    {
     "name": "stdout",
     "output_type": "stream",
     "text": [
      "number of guests with at least two appearences 32226\n"
     ]
    }
   ],
   "source": [
    "longDf = df[[\"guestPredictedNames\", \"title\", \"epTitle\", \"transcript\", \"category1\"]].explode(\"guestPredictedNames\") #.dropna(subset=[\"guestPredictedNames\"]).set_index(\"guestPredictedNames\")\n",
    "probDf = longDf[[\"guestPredictedNames\"]].rename(columns={\"guestPredictedNames\":\"guestName\"})\n",
    "\n",
    "#FIRST: just filter out any guests with only 1 appearance \n",
    "probDf = probDf.dropna(subset=[\"guestName\"])\n",
    "probDf = probDf[probDf[\"guestName\"] != None]\n",
    "probDf[[\"first\", \"last\"]] = probDf[\"guestName\"].apply(lambda x: x.split(\" \")).values.tolist()\n",
    "\n",
    "#get first prob \n",
    "firstProbs = pd.DataFrame(probDf[\"first\"].value_counts()) \n",
    "firstProbs = firstProbs / len(probDf)\n",
    "\n",
    "#get last prob \n",
    "lastProbs = pd.DataFrame(probDf[\"last\"].value_counts()) \n",
    "lastProbs = lastProbs / len(probDf)\n",
    "\n",
    "len(firstProbs) * len(lastProbs)\n",
    "\n",
    "#this is the number of guests \n",
    "print(f\"prob. df len: {len(probDf)}\") \n",
    "\n",
    "#estimate the joint probability as a draw from the first and last \n",
    "def getJointProb(inName): \n",
    "    fProb = firstProbs.loc[inName.split(\" \")[0]]\n",
    "    lProb = lastProbs.loc[inName.split(\" \")[1]]\n",
    "    return fProb * lProb\n",
    "\n",
    "guestPairs = commonGuests.loc[(commonGuests[\"appearences\"] >= 2)]\n",
    "guestPairs[\"jointProb\"] = guestPairs[\"guestName\"].apply(getJointProb) \n",
    "\n",
    "#just fun to look at \n",
    "guestPairs.sort_values(\"jointProb\").head()\n",
    "\n",
    "probDf = probDf.drop_duplicates()\n",
    "probDf[\"jointProb\"] = probDf[\"guestName\"].apply(getJointProb)\n",
    "\n",
    "print(f\"number of guests with at least two appearences {len(guestPairs)}\")\n",
    "#get quantiles for guest appearences \n",
    "quants = np.quantile(guestPairs[\"jointProb\"], [.25, .5, .75])"
   ]
  },
  {
   "cell_type": "code",
   "execution_count": 24,
   "metadata": {},
   "outputs": [
    {
     "name": "stdout",
     "output_type": "stream",
     "text": [
      "number of guests with at least two appearences 32226\n"
     ]
    }
   ],
   "source": [
    "print(f\"number of guests with at least two appearences {len(guestPairs)}\")"
   ]
  },
  {
   "cell_type": "code",
   "execution_count": 21,
   "metadata": {},
   "outputs": [
    {
     "name": "stdout",
     "output_type": "stream",
     "text": [
      "number of guests with at least two appearences 16113\n",
      "16113\n",
      "42936\n"
     ]
    }
   ],
   "source": [
    "\n",
    "#keep only uncommon names (under median)\n",
    "guestPairs = guestPairs[(guestPairs[\"jointProb\"] <= quants[1])]\n",
    "print(f\"number of guests with two appearences and under median freq: {len(guestPairs)}\")\n",
    "\n",
    "#manualRemoval = [\"George Floyd\", \"Breonna Taylor\", \"Breonna Tayler\",  \"Tony McDade\", \"Amard Aubrey\", \"Amad Aubrey\", \"Jesus Christ\"]\n",
    "#guestPairs = guestPairs[guestPairs[\"guestName\"].isin(manualRemoval) == False]\n",
    "\n",
    "print(len(guestPairs))\n",
    "\n",
    "#explode this out into a network \n",
    "def getUniquePairs(inList): \n",
    "    inList = list(inList)\n",
    "    outList = []\n",
    "    for i in range(len(inList)): \n",
    "        for j in range(i+1, len(inList)):\n",
    "            outList.append([inList[i], inList[j]])\n",
    "    return outList\n",
    "\n",
    "guestPairs[\"urlPairs\"] = guestPairs[\"titleGuest\"].apply(getUniquePairs)\n",
    "guestPairs = guestPairs.explode(\"urlPairs\")\n",
    "\n",
    "print(len(guestPairs))\n",
    "\n",
    "guestPairs[[\"source\", \"target\"]] = guestPairs[\"urlPairs\"].to_list()\n",
    "guestPairs = guestPairs[(guestPairs[\"source\"] != None) & (guestPairs[\"target\"] != None)]\n",
    "guestPairs = guestPairs.dropna(subset=[\"source\", \"target\", \"guestName\"])\n",
    "#guestPairs = guestPairs.reset_index()\n",
    "guestGraph = nx.from_pandas_edgelist(guestPairs, source=\"source\", target=\"target\", edge_attr=\"guestName\")\n"
   ]
  },
  {
   "cell_type": "code",
   "execution_count": 59,
   "metadata": {},
   "outputs": [
    {
     "data": {
      "text/html": [
       "<div>\n",
       "<style scoped>\n",
       "    .dataframe tbody tr th:only-of-type {\n",
       "        vertical-align: middle;\n",
       "    }\n",
       "\n",
       "    .dataframe tbody tr th {\n",
       "        vertical-align: top;\n",
       "    }\n",
       "\n",
       "    .dataframe thead th {\n",
       "        text-align: right;\n",
       "    }\n",
       "</style>\n",
       "<table border=\"1\" class=\"dataframe\">\n",
       "  <thead>\n",
       "    <tr style=\"text-align: right;\">\n",
       "      <th></th>\n",
       "      <th>guestName</th>\n",
       "      <th>first</th>\n",
       "      <th>last</th>\n",
       "      <th>jointProb</th>\n",
       "    </tr>\n",
       "  </thead>\n",
       "  <tbody>\n",
       "    <tr>\n",
       "      <th>8113</th>\n",
       "      <td>Mike Johnson</td>\n",
       "      <td>Mike</td>\n",
       "      <td>Johnson</td>\n",
       "      <td>0.000061</td>\n",
       "    </tr>\n",
       "    <tr>\n",
       "      <th>87986</th>\n",
       "      <td>Brian Smith</td>\n",
       "      <td>Brian</td>\n",
       "      <td>Smith</td>\n",
       "      <td>0.000062</td>\n",
       "    </tr>\n",
       "    <tr>\n",
       "      <th>22540</th>\n",
       "      <td>David Williams</td>\n",
       "      <td>David</td>\n",
       "      <td>Williams</td>\n",
       "      <td>0.000062</td>\n",
       "    </tr>\n",
       "    <tr>\n",
       "      <th>68539</th>\n",
       "      <td>Chris Williams</td>\n",
       "      <td>Chris</td>\n",
       "      <td>Williams</td>\n",
       "      <td>0.000062</td>\n",
       "    </tr>\n",
       "    <tr>\n",
       "      <th>16818</th>\n",
       "      <td>Michael Johnson</td>\n",
       "      <td>Michael</td>\n",
       "      <td>Johnson</td>\n",
       "      <td>0.000064</td>\n",
       "    </tr>\n",
       "    <tr>\n",
       "      <th>234690</th>\n",
       "      <td>David Brown</td>\n",
       "      <td>David</td>\n",
       "      <td>Brown</td>\n",
       "      <td>0.000069</td>\n",
       "    </tr>\n",
       "    <tr>\n",
       "      <th>39953</th>\n",
       "      <td>Chris Brown</td>\n",
       "      <td>Chris</td>\n",
       "      <td>Brown</td>\n",
       "      <td>0.000069</td>\n",
       "    </tr>\n",
       "    <tr>\n",
       "      <th>66775</th>\n",
       "      <td>Matt Smith</td>\n",
       "      <td>Matt</td>\n",
       "      <td>Smith</td>\n",
       "      <td>0.000074</td>\n",
       "    </tr>\n",
       "    <tr>\n",
       "      <th>163875</th>\n",
       "      <td>David Johnson</td>\n",
       "      <td>David</td>\n",
       "      <td>Johnson</td>\n",
       "      <td>0.000074</td>\n",
       "    </tr>\n",
       "    <tr>\n",
       "      <th>150895</th>\n",
       "      <td>Chris Johnson</td>\n",
       "      <td>Chris</td>\n",
       "      <td>Johnson</td>\n",
       "      <td>0.000074</td>\n",
       "    </tr>\n",
       "    <tr>\n",
       "      <th>396548</th>\n",
       "      <td>John Jones</td>\n",
       "      <td>John</td>\n",
       "      <td>Jones</td>\n",
       "      <td>0.000075</td>\n",
       "    </tr>\n",
       "    <tr>\n",
       "      <th>1345</th>\n",
       "      <td>John Williams</td>\n",
       "      <td>John</td>\n",
       "      <td>Williams</td>\n",
       "      <td>0.000077</td>\n",
       "    </tr>\n",
       "    <tr>\n",
       "      <th>21382</th>\n",
       "      <td>Mark Smith</td>\n",
       "      <td>Mark</td>\n",
       "      <td>Smith</td>\n",
       "      <td>0.000079</td>\n",
       "    </tr>\n",
       "    <tr>\n",
       "      <th>10465</th>\n",
       "      <td>Mike Smith</td>\n",
       "      <td>Mike</td>\n",
       "      <td>Smith</td>\n",
       "      <td>0.000085</td>\n",
       "    </tr>\n",
       "    <tr>\n",
       "      <th>299591</th>\n",
       "      <td>John Brown</td>\n",
       "      <td>John</td>\n",
       "      <td>Brown</td>\n",
       "      <td>0.000085</td>\n",
       "    </tr>\n",
       "    <tr>\n",
       "      <th>46791</th>\n",
       "      <td>Michael Smith</td>\n",
       "      <td>Michael</td>\n",
       "      <td>Smith</td>\n",
       "      <td>0.000090</td>\n",
       "    </tr>\n",
       "    <tr>\n",
       "      <th>214707</th>\n",
       "      <td>John Johnson</td>\n",
       "      <td>John</td>\n",
       "      <td>Johnson</td>\n",
       "      <td>0.000092</td>\n",
       "    </tr>\n",
       "    <tr>\n",
       "      <th>7461</th>\n",
       "      <td>David Smith</td>\n",
       "      <td>David</td>\n",
       "      <td>Smith</td>\n",
       "      <td>0.000104</td>\n",
       "    </tr>\n",
       "    <tr>\n",
       "      <th>60576</th>\n",
       "      <td>Chris Smith</td>\n",
       "      <td>Chris</td>\n",
       "      <td>Smith</td>\n",
       "      <td>0.000104</td>\n",
       "    </tr>\n",
       "    <tr>\n",
       "      <th>24661</th>\n",
       "      <td>John Smith</td>\n",
       "      <td>John</td>\n",
       "      <td>Smith</td>\n",
       "      <td>0.000129</td>\n",
       "    </tr>\n",
       "  </tbody>\n",
       "</table>\n",
       "</div>"
      ],
      "text/plain": [
       "              guestName    first      last  jointProb\n",
       "8113       Mike Johnson     Mike   Johnson   0.000061\n",
       "87986       Brian Smith    Brian     Smith   0.000062\n",
       "22540    David Williams    David  Williams   0.000062\n",
       "68539    Chris Williams    Chris  Williams   0.000062\n",
       "16818   Michael Johnson  Michael   Johnson   0.000064\n",
       "234690      David Brown    David     Brown   0.000069\n",
       "39953       Chris Brown    Chris     Brown   0.000069\n",
       "66775        Matt Smith     Matt     Smith   0.000074\n",
       "163875    David Johnson    David   Johnson   0.000074\n",
       "150895    Chris Johnson    Chris   Johnson   0.000074\n",
       "396548       John Jones     John     Jones   0.000075\n",
       "1345      John Williams     John  Williams   0.000077\n",
       "21382        Mark Smith     Mark     Smith   0.000079\n",
       "10465        Mike Smith     Mike     Smith   0.000085\n",
       "299591       John Brown     John     Brown   0.000085\n",
       "46791     Michael Smith  Michael     Smith   0.000090\n",
       "214707     John Johnson     John   Johnson   0.000092\n",
       "7461        David Smith    David     Smith   0.000104\n",
       "60576       Chris Smith    Chris     Smith   0.000104\n",
       "24661        John Smith     John     Smith   0.000129"
      ]
     },
     "execution_count": 59,
     "metadata": {},
     "output_type": "execute_result"
    }
   ],
   "source": [
    "#punch in here to grab an example name!\n",
    "probDf.sort_values(\"jointProb\").tail(20)"
   ]
  },
  {
   "cell_type": "code",
   "execution_count": 25,
   "metadata": {},
   "outputs": [],
   "source": [
    "#now get the topic information figured out \n",
    "#first, what are the big topics? \n",
    "transcriptKeys = pd.read_csv(transcriptKeysPath, sep=\"\\t\", names=[\"topicNum\", \"proportion\", \"topWords\"]).sort_values(\"proportion\", ascending=False)\n",
    "descKeys = pd.read_csv(descKeysPath, sep=\"\\t\", names=[\"topicNum\", \"proportion\", \"topWords\"]).sort_values(\"proportion\", ascending=False)"
   ]
  },
  {
   "cell_type": "code",
   "execution_count": 12,
   "metadata": {},
   "outputs": [],
   "source": [
    "#topics to drop: \n",
    "#toDrop = [45, 35, 58, 37, 9, 31, 36, 26, 22, 65, 3, 69, 14, 71, 52, 56, 77, 1, 15, 97, 5]\n",
    "#kept: 27, 51\n",
    "#topicKeys.iloc[90:100, :]"
   ]
  },
  {
   "cell_type": "code",
   "execution_count": 26,
   "metadata": {},
   "outputs": [
    {
     "name": "stderr",
     "output_type": "stream",
     "text": [
      "/opt/anaconda/lib/python3.11/site-packages/numpy/core/fromnumeric.py:59: FutureWarning: The behavior of Series.argmax/argmin with skipna=False and NAs, or with all-NAs is deprecated. In a future version this will raise ValueError.\n",
      "  return bound(*args, **kwds)\n"
     ]
    }
   ],
   "source": [
    "#just start by getting the top columns\n",
    "transCols = [\"transcript\" + str(item) for item in range(0, N_TOPICS)]\n",
    "descCols = [\"desc\" + str(item) for item in range(0, N_TOPICS)]\n",
    "\n",
    "#don't drop any columns for now\n",
    "toDrop = []\n",
    "\n",
    "def assignCat(inRow, inCols): \n",
    "    topCat = inCols[np.argmax(inRow)]\n",
    "    return topCat\n",
    "\n",
    "#cols = df.loc[:,0:99].drop(columns=toDrop).columns\n",
    "#df[\"topTopic\"] = df.loc[:,0:99].drop(columns=toDrop).apply(assignCat, axis=1)\n",
    "\n",
    "df[\"topTransTopic\"] = df.loc[:,transCols].drop(columns=toDrop).apply(assignCat, args=[transCols], axis=1)\n",
    "df[\"topDescTopic\"] = df.loc[:,descCols].drop(columns=toDrop).apply(assignCat, args=[descCols], axis=1)"
   ]
  },
  {
   "cell_type": "code",
   "execution_count": 27,
   "metadata": {},
   "outputs": [],
   "source": [
    "import seaborn as sns\n",
    "import matplotlib.pyplot as plt"
   ]
  },
  {
   "cell_type": "code",
   "execution_count": 28,
   "metadata": {},
   "outputs": [
    {
     "name": "stdout",
     "output_type": "stream",
     "text": [
      "business\n",
      "   topTransTopic  count     fracs\n",
      "18   transcript0   1070  0.008067\n",
      "3    transcript1  10892  0.082117\n",
      "16  transcript10   1194  0.009002\n",
      "30  transcript11    320  0.002413\n",
      "33  transcript12    240  0.001809\n",
      "sports\n",
      "   topTransTopic  count     fracs\n",
      "15   transcript0    741  0.007829\n",
      "24   transcript1    191  0.002018\n",
      "23  transcript10    238  0.002515\n",
      "25  transcript11    163  0.001722\n",
      "38  transcript12     18  0.000190\n",
      "news\n",
      "   topTransTopic  count     fracs\n",
      "18   transcript0   1470  0.018231\n",
      "17   transcript1   1571  0.019483\n",
      "0   transcript10  11640  0.144358\n",
      "28  transcript11    531  0.006585\n",
      "37  transcript12    179  0.002220\n",
      "religion\n",
      "   topTransTopic  count     fracs\n",
      "25   transcript0    487  0.002557\n",
      "27   transcript1    397  0.002084\n",
      "22  transcript10   1036  0.005440\n",
      "24  transcript11    528  0.002772\n",
      "1   transcript12  45524  0.239026\n"
     ]
    }
   ],
   "source": [
    "outDict = {}\n",
    "cats=[\"business\", \"sports\", \"news\", \"religion\"]\n",
    "for category in cats: \n",
    "    currDf = pd.DataFrame(df.loc[df[\"category1\"] == category, \"topTransTopic\"].value_counts()).reset_index().sort_values(\"topTransTopic\")\n",
    "    #toAvoid = list(currDf.sort_values(\"count\").head(20)[\"topTransTopic\"])\n",
    "    #currDf = currDf[currDf[\"topTransTopic\"].isin(toAvoid) == False]\n",
    "    currDf[\"fracs\"] = currDf[\"count\"] / sum(currDf[\"count\"]) \n",
    "    print(category)\n",
    "    print(currDf.head())\n",
    "    outDict[category] = list(currDf[\"fracs\"])\n",
    "heatDf = pd.DataFrame(outDict)\n",
    "heatDf = heatDf.set_index(currDf[\"topTransTopic\"].apply(lambda x: x.replace(\"transcript\", \"Topic_\")))"
   ]
  },
  {
   "cell_type": "code",
   "execution_count": 29,
   "metadata": {},
   "outputs": [],
   "source": [
    "#remove topics that aren't that popular overall \n",
    "heatDf.head() \n",
    "heatDf[\"mean\"] = heatDf.apply(np.mean, axis=1)\n",
    "heatDf = heatDf.sort_values(\"mean\", ascending=False).drop(columns=\"mean\")"
   ]
  },
  {
   "cell_type": "code",
   "execution_count": 30,
   "metadata": {},
   "outputs": [
    {
     "data": {
      "text/html": [
       "<div>\n",
       "<style scoped>\n",
       "    .dataframe tbody tr th:only-of-type {\n",
       "        vertical-align: middle;\n",
       "    }\n",
       "\n",
       "    .dataframe tbody tr th {\n",
       "        vertical-align: top;\n",
       "    }\n",
       "\n",
       "    .dataframe thead th {\n",
       "        text-align: right;\n",
       "    }\n",
       "</style>\n",
       "<table border=\"1\" class=\"dataframe\">\n",
       "  <thead>\n",
       "    <tr style=\"text-align: right;\">\n",
       "      <th></th>\n",
       "      <th>business</th>\n",
       "      <th>sports</th>\n",
       "      <th>news</th>\n",
       "      <th>religion</th>\n",
       "    </tr>\n",
       "    <tr>\n",
       "      <th>topTransTopic</th>\n",
       "      <th></th>\n",
       "      <th></th>\n",
       "      <th></th>\n",
       "      <th></th>\n",
       "    </tr>\n",
       "  </thead>\n",
       "  <tbody>\n",
       "    <tr>\n",
       "      <th>Topic_39</th>\n",
       "      <td>0.004493</td>\n",
       "      <td>0.000190</td>\n",
       "      <td>0.002952</td>\n",
       "      <td>0.288628</td>\n",
       "    </tr>\n",
       "    <tr>\n",
       "      <th>Topic_18</th>\n",
       "      <td>0.255979</td>\n",
       "      <td>0.003402</td>\n",
       "      <td>0.020091</td>\n",
       "      <td>0.002016</td>\n",
       "    </tr>\n",
       "    <tr>\n",
       "      <th>Topic_12</th>\n",
       "      <td>0.001809</td>\n",
       "      <td>0.000190</td>\n",
       "      <td>0.002220</td>\n",
       "      <td>0.239026</td>\n",
       "    </tr>\n",
       "    <tr>\n",
       "      <th>Topic_20</th>\n",
       "      <td>0.074517</td>\n",
       "      <td>0.042887</td>\n",
       "      <td>0.059393</td>\n",
       "      <td>0.059620</td>\n",
       "    </tr>\n",
       "    <tr>\n",
       "      <th>Topic_33</th>\n",
       "      <td>0.001350</td>\n",
       "      <td>0.203687</td>\n",
       "      <td>0.026937</td>\n",
       "      <td>0.000767</td>\n",
       "    </tr>\n",
       "  </tbody>\n",
       "</table>\n",
       "</div>"
      ],
      "text/plain": [
       "               business    sports      news  religion\n",
       "topTransTopic                                        \n",
       "Topic_39       0.004493  0.000190  0.002952  0.288628\n",
       "Topic_18       0.255979  0.003402  0.020091  0.002016\n",
       "Topic_12       0.001809  0.000190  0.002220  0.239026\n",
       "Topic_20       0.074517  0.042887  0.059393  0.059620\n",
       "Topic_33       0.001350  0.203687  0.026937  0.000767"
      ]
     },
     "execution_count": 30,
     "metadata": {},
     "output_type": "execute_result"
    }
   ],
   "source": [
    "heatDf.head() "
   ]
  },
  {
   "cell_type": "code",
   "execution_count": 31,
   "metadata": {},
   "outputs": [
    {
     "data": {
      "text/plain": [
       "Text(0.5, 0.98, 'Topic Proportions within Different Categories')"
      ]
     },
     "execution_count": 31,
     "metadata": {},
     "output_type": "execute_result"
    },
    {
     "data": {
      "image/png": "[encoded data removed]",
      "text/plain": [
       "<Figure size 800x600 with 2 Axes>"
      ]
     },
     "metadata": {},
     "output_type": "display_data"
    }
   ],
   "source": [
    "fig, ax = plt.subplots(figsize=(8, 6))\n",
    "sns.heatmap(heatDf.head(40), vmin=0, ax =ax)\n",
    "ax.set_yticks(np.arange(0, 40, 1), labels=heatDf.index, rotation=.5)\n",
    "fig.suptitle(\"Topic Proportions within Different Categories\")"
   ]
  },
  {
   "cell_type": "code",
   "execution_count": 32,
   "metadata": {},
   "outputs": [
    {
     "data": {
      "text/plain": [
       "\"i'm kind years started time people lot i've yeah didn't that's it's back bit wanted things life podcast school work \""
      ]
     },
     "execution_count": 32,
     "metadata": {},
     "output_type": "execute_result"
    }
   ],
   "source": [
    "transcriptKeys.loc[transcriptKeys[\"topicNum\"] == 37, \"topWords\"].item()"
   ]
  },
  {
   "cell_type": "code",
   "execution_count": 33,
   "metadata": {},
   "outputs": [
    {
     "data": {
      "text/plain": [
       "topTransTopic\n",
       "transcript18    33953\n",
       "transcript37    12991\n",
       "transcript34    11899\n",
       "transcript1     10892\n",
       "transcript7     10702\n",
       "transcript20     9884\n",
       "transcript9      6410\n",
       "transcript35     4513\n",
       "transcript6      3873\n",
       "transcript17     3696\n",
       "transcript22     2733\n",
       "transcript38     2458\n",
       "transcript16     1535\n",
       "transcript2      1452\n",
       "transcript21     1424\n",
       "Name: count, dtype: int64"
      ]
     },
     "execution_count": 33,
     "metadata": {},
     "output_type": "execute_result"
    }
   ],
   "source": [
    "'''\n",
    "with 100 topics \n",
    "#what if we just pull out all of the business, news, etc... topics? \n",
    "bizTopics = [82, 0, 62, 79, 49, 24, 6, 28, 31, 95, 97]\n",
    "sportsTopics = [21, 72, 57, 93, 41, 30, 35]\n",
    "newsTopics = [59, 20, 85, 51, 24, 14, 37, 89]\n",
    "'''\n",
    "\n",
    "#with 40 topics \n",
    "bizTopics = [18, 37, 34, 1, 7]\n",
    "sportsTopics = [33, 23, 24]\n",
    "newsTopics = [10, 38, 21, 32]\n",
    "\n",
    "toHighlight = bizTopics + sportsTopics + newsTopics\n",
    "\n",
    "#NOTE: used this manually to pull out topics \n",
    "df[df[\"category1\"] == \"business\"].value_counts(\"topTransTopic\").head(15)"
   ]
  },
  {
   "cell_type": "code",
   "execution_count": 34,
   "metadata": {},
   "outputs": [],
   "source": [
    "#TODO: also get topics that aren't really \"about anything\"\n",
    "toDrop = []"
   ]
  },
  {
   "cell_type": "code",
   "execution_count": 35,
   "metadata": {},
   "outputs": [
    {
     "name": "stderr",
     "output_type": "stream",
     "text": [
      "/tmp/ipykernel_2686696/2657979319.py:2: FutureWarning: The provided callable <function mean at 0x7f4954171580> is currently using DataFrameGroupBy.mean. In a future version of pandas, the provided callable will be used directly. To keep current behavior pass the string \"mean\" instead.\n",
      "  titleTopics = df.loc[:, [\"title\"] + transCols + descCols].groupby(\"title\").agg(np.mean).reset_index()\n"
     ]
    }
   ],
   "source": [
    "#but what we actually care about is at the title level!\n",
    "titleTopics = df.loc[:, [\"title\"] + transCols + descCols].groupby(\"title\").agg(np.mean).reset_index()"
   ]
  },
  {
   "cell_type": "code",
   "execution_count": 36,
   "metadata": {},
   "outputs": [],
   "source": [
    "#make none if it's not in business, for now \n",
    "def subsetTopics(inStr, topicList):\n",
    "\n",
    "    #need to add string to beginning so inStr matches something in the list \n",
    "    topicList = [\"transcript\" + str(item) for item in topicList]\n",
    "    if inStr in topicList: \n",
    "        return inStr\n",
    "    \n",
    "    return \"None\""
   ]
  },
  {
   "cell_type": "code",
   "execution_count": 37,
   "metadata": {},
   "outputs": [
    {
     "data": {
      "text/html": [
       "<div>\n",
       "<style scoped>\n",
       "    .dataframe tbody tr th:only-of-type {\n",
       "        vertical-align: middle;\n",
       "    }\n",
       "\n",
       "    .dataframe tbody tr th {\n",
       "        vertical-align: top;\n",
       "    }\n",
       "\n",
       "    .dataframe thead th {\n",
       "        text-align: right;\n",
       "    }\n",
       "</style>\n",
       "<table border=\"1\" class=\"dataframe\">\n",
       "  <thead>\n",
       "    <tr style=\"text-align: right;\">\n",
       "      <th></th>\n",
       "      <th>fullPotentialOutPath</th>\n",
       "      <th>transcript</th>\n",
       "      <th>potentialOutPath</th>\n",
       "      <th>rssUrl</th>\n",
       "      <th>epTitle</th>\n",
       "      <th>epDescription</th>\n",
       "      <th>duration</th>\n",
       "      <th>pubDate</th>\n",
       "      <th>itunes:type</th>\n",
       "      <th>itunes:complete</th>\n",
       "      <th>...</th>\n",
       "      <th>desc32</th>\n",
       "      <th>desc33</th>\n",
       "      <th>desc34</th>\n",
       "      <th>desc35</th>\n",
       "      <th>desc36</th>\n",
       "      <th>desc37</th>\n",
       "      <th>desc38</th>\n",
       "      <th>desc39</th>\n",
       "      <th>topTransTopic</th>\n",
       "      <th>topDescTopic</th>\n",
       "    </tr>\n",
       "  </thead>\n",
       "  <tbody>\n",
       "    <tr>\n",
       "      <th>0</th>\n",
       "      <td>/shared/3/projects/benlitterer/podcastData/pro...</td>\n",
       "      <td>I'm Simon Shapiro and this is Sing Out Speak ...</td>\n",
       "      <td>/www.buzzsprout.com/o3/httpswww.buzzsprout.com...</td>\n",
       "      <td>https://feeds.buzzsprout.com/783020.rss</td>\n",
       "      <td>Best of SingOut SpeakOut No.3</td>\n",
       "      <td>&lt;p&gt;Best of with snippets from 3 episodes and a...</td>\n",
       "      <td>803</td>\n",
       "      <td>Sun, 21 Jun 2020 07:00:00 +1000</td>\n",
       "      <td>None</td>\n",
       "      <td>NaN</td>\n",
       "      <td>...</td>\n",
       "      <td>0.001042</td>\n",
       "      <td>0.000739</td>\n",
       "      <td>0.000275</td>\n",
       "      <td>0.000295</td>\n",
       "      <td>0.000369</td>\n",
       "      <td>0.000313</td>\n",
       "      <td>0.000696</td>\n",
       "      <td>0.00044</td>\n",
       "      <td>transcript34</td>\n",
       "      <td>desc12</td>\n",
       "    </tr>\n",
       "    <tr>\n",
       "      <th>1</th>\n",
       "      <td>/shared/3/projects/benlitterer/podcastData/pro...</td>\n",
       "      <td>I'm Simon Shapiro and this is Sing Out Speak ...</td>\n",
       "      <td>/www.buzzsprout.com/83/httpswww.buzzsprout.com...</td>\n",
       "      <td>https://feeds.buzzsprout.com/783020.rss</td>\n",
       "      <td>It's All Gone</td>\n",
       "      <td>&lt;p&gt;Simon introduces &amp;apos;It&amp;apos;s all Gone&amp;a...</td>\n",
       "      <td>360</td>\n",
       "      <td>Sun, 14 Jun 2020 22:00:00 +1000</td>\n",
       "      <td>None</td>\n",
       "      <td>NaN</td>\n",
       "      <td>...</td>\n",
       "      <td>0.001042</td>\n",
       "      <td>0.000739</td>\n",
       "      <td>0.000275</td>\n",
       "      <td>0.000295</td>\n",
       "      <td>0.000369</td>\n",
       "      <td>0.000313</td>\n",
       "      <td>0.000696</td>\n",
       "      <td>0.00044</td>\n",
       "      <td>transcript20</td>\n",
       "      <td>desc12</td>\n",
       "    </tr>\n",
       "    <tr>\n",
       "      <th>2</th>\n",
       "      <td>/shared/3/projects/benlitterer/podcastData/pro...</td>\n",
       "      <td>I'm Simon Shapiro and this is Sing Out Speak ...</td>\n",
       "      <td>/www.buzzsprout.com/3y/httpswww.buzzsprout.com...</td>\n",
       "      <td>https://feeds.buzzsprout.com/783020.rss</td>\n",
       "      <td>Today Is Yesterday</td>\n",
       "      <td>&lt;p&gt;Simon introduces track 4, of the newly rele...</td>\n",
       "      <td>416</td>\n",
       "      <td>Sun, 31 May 2020 21:00:00 +1000</td>\n",
       "      <td>None</td>\n",
       "      <td>NaN</td>\n",
       "      <td>...</td>\n",
       "      <td>0.001042</td>\n",
       "      <td>0.000739</td>\n",
       "      <td>0.000275</td>\n",
       "      <td>0.000295</td>\n",
       "      <td>0.000369</td>\n",
       "      <td>0.000313</td>\n",
       "      <td>0.000696</td>\n",
       "      <td>0.00044</td>\n",
       "      <td>transcript35</td>\n",
       "      <td>desc12</td>\n",
       "    </tr>\n",
       "    <tr>\n",
       "      <th>3</th>\n",
       "      <td>/shared/3/projects/benlitterer/podcastData/pro...</td>\n",
       "      <td>I'm Simon Shapiro and this is Sing Out Speak ...</td>\n",
       "      <td>/www.buzzsprout.com/3r/httpswww.buzzsprout.com...</td>\n",
       "      <td>https://feeds.buzzsprout.com/783020.rss</td>\n",
       "      <td>Saturn Return</td>\n",
       "      <td>&lt;p&gt;This week, Simon introduces track 2- Saturn...</td>\n",
       "      <td>476</td>\n",
       "      <td>Sun, 24 May 2020 19:00:00 +1000</td>\n",
       "      <td>None</td>\n",
       "      <td>NaN</td>\n",
       "      <td>...</td>\n",
       "      <td>0.001042</td>\n",
       "      <td>0.000739</td>\n",
       "      <td>0.000275</td>\n",
       "      <td>0.000295</td>\n",
       "      <td>0.000369</td>\n",
       "      <td>0.000313</td>\n",
       "      <td>0.000696</td>\n",
       "      <td>0.00044</td>\n",
       "      <td>transcript9</td>\n",
       "      <td>desc12</td>\n",
       "    </tr>\n",
       "    <tr>\n",
       "      <th>4</th>\n",
       "      <td>/shared/3/projects/benlitterer/podcastData/pro...</td>\n",
       "      <td>I'm Simon Shapiro and this is Sing Out Speak ...</td>\n",
       "      <td>/www.buzzsprout.com/30/httpswww.buzzsprout.com...</td>\n",
       "      <td>https://feeds.buzzsprout.com/783020.rss</td>\n",
       "      <td>Quarterlife Crisis</td>\n",
       "      <td>&lt;p&gt;Big news week. The band Simon lived in the ...</td>\n",
       "      <td>509</td>\n",
       "      <td>Sun, 17 May 2020 20:00:00 +1000</td>\n",
       "      <td>None</td>\n",
       "      <td>NaN</td>\n",
       "      <td>...</td>\n",
       "      <td>0.001042</td>\n",
       "      <td>0.000739</td>\n",
       "      <td>0.000275</td>\n",
       "      <td>0.000295</td>\n",
       "      <td>0.000369</td>\n",
       "      <td>0.000313</td>\n",
       "      <td>0.000696</td>\n",
       "      <td>0.00044</td>\n",
       "      <td>transcript11</td>\n",
       "      <td>desc12</td>\n",
       "    </tr>\n",
       "  </tbody>\n",
       "</table>\n",
       "<p>5 rows × 184 columns</p>\n",
       "</div>"
      ],
      "text/plain": [
       "                                fullPotentialOutPath  \\\n",
       "0  /shared/3/projects/benlitterer/podcastData/pro...   \n",
       "1  /shared/3/projects/benlitterer/podcastData/pro...   \n",
       "2  /shared/3/projects/benlitterer/podcastData/pro...   \n",
       "3  /shared/3/projects/benlitterer/podcastData/pro...   \n",
       "4  /shared/3/projects/benlitterer/podcastData/pro...   \n",
       "\n",
       "                                          transcript  \\\n",
       "0   I'm Simon Shapiro and this is Sing Out Speak ...   \n",
       "1   I'm Simon Shapiro and this is Sing Out Speak ...   \n",
       "2   I'm Simon Shapiro and this is Sing Out Speak ...   \n",
       "3   I'm Simon Shapiro and this is Sing Out Speak ...   \n",
       "4   I'm Simon Shapiro and this is Sing Out Speak ...   \n",
       "\n",
       "                                    potentialOutPath  \\\n",
       "0  /www.buzzsprout.com/o3/httpswww.buzzsprout.com...   \n",
       "1  /www.buzzsprout.com/83/httpswww.buzzsprout.com...   \n",
       "2  /www.buzzsprout.com/3y/httpswww.buzzsprout.com...   \n",
       "3  /www.buzzsprout.com/3r/httpswww.buzzsprout.com...   \n",
       "4  /www.buzzsprout.com/30/httpswww.buzzsprout.com...   \n",
       "\n",
       "                                    rssUrl                        epTitle  \\\n",
       "0  https://feeds.buzzsprout.com/783020.rss  Best of SingOut SpeakOut No.3   \n",
       "1  https://feeds.buzzsprout.com/783020.rss                  It's All Gone   \n",
       "2  https://feeds.buzzsprout.com/783020.rss             Today Is Yesterday   \n",
       "3  https://feeds.buzzsprout.com/783020.rss                  Saturn Return   \n",
       "4  https://feeds.buzzsprout.com/783020.rss             Quarterlife Crisis   \n",
       "\n",
       "                                       epDescription duration  \\\n",
       "0  <p>Best of with snippets from 3 episodes and a...      803   \n",
       "1  <p>Simon introduces &apos;It&apos;s all Gone&a...      360   \n",
       "2  <p>Simon introduces track 4, of the newly rele...      416   \n",
       "3  <p>This week, Simon introduces track 2- Saturn...      476   \n",
       "4  <p>Big news week. The band Simon lived in the ...      509   \n",
       "\n",
       "                           pubDate itunes:type  itunes:complete  ...  \\\n",
       "0  Sun, 21 Jun 2020 07:00:00 +1000        None              NaN  ...   \n",
       "1  Sun, 14 Jun 2020 22:00:00 +1000        None              NaN  ...   \n",
       "2  Sun, 31 May 2020 21:00:00 +1000        None              NaN  ...   \n",
       "3  Sun, 24 May 2020 19:00:00 +1000        None              NaN  ...   \n",
       "4  Sun, 17 May 2020 20:00:00 +1000        None              NaN  ...   \n",
       "\n",
       "     desc32    desc33    desc34    desc35    desc36    desc37    desc38  \\\n",
       "0  0.001042  0.000739  0.000275  0.000295  0.000369  0.000313  0.000696   \n",
       "1  0.001042  0.000739  0.000275  0.000295  0.000369  0.000313  0.000696   \n",
       "2  0.001042  0.000739  0.000275  0.000295  0.000369  0.000313  0.000696   \n",
       "3  0.001042  0.000739  0.000275  0.000295  0.000369  0.000313  0.000696   \n",
       "4  0.001042  0.000739  0.000275  0.000295  0.000369  0.000313  0.000696   \n",
       "\n",
       "    desc39 topTransTopic  topDescTopic  \n",
       "0  0.00044  transcript34        desc12  \n",
       "1  0.00044  transcript20        desc12  \n",
       "2  0.00044  transcript35        desc12  \n",
       "3  0.00044   transcript9        desc12  \n",
       "4  0.00044  transcript11        desc12  \n",
       "\n",
       "[5 rows x 184 columns]"
      ]
     },
     "execution_count": 37,
     "metadata": {},
     "output_type": "execute_result"
    }
   ],
   "source": [
    "#PUNCH IN HERE\n",
    "df.head()"
   ]
  },
  {
   "cell_type": "code",
   "execution_count": 38,
   "metadata": {},
   "outputs": [],
   "source": [
    "#get the top title topic from the list we care about \n",
    "#TODO: maybe try this approach later\n",
    "#transCols = [\"transcript\" + str(item) for item in toHighlight]\n",
    "transCols = [\"transcript\" + str(item) for item in range(0, N_TOPICS)]\n",
    "\n",
    "#REMEMBER: we are only looking among the topics we're interested in here \n",
    "titleTopics[\"transTitleTopic\"] = titleTopics.loc[:,transCols].apply(assignCat, args=[transCols], axis=1)\n",
    "\n",
    "#get columns for only certain topic groupings \n",
    "titleTopics[\"transTitleBusiness\"] = titleTopics[\"transTitleTopic\"].apply(subsetTopics, args=[bizTopics])\n",
    "titleTopics[\"transTitleSports\"] = titleTopics[\"transTitleTopic\"].apply(subsetTopics, args=[sportsTopics])\n",
    "titleTopics[\"transTitleNews\"] = titleTopics[\"transTitleTopic\"].apply(subsetTopics, args=[newsTopics])\n",
    "\n",
    "df = pd.merge(df, titleTopics[[\"title\", \"transTitleTopic\", \"transTitleBusiness\", \"transTitleSports\", \"transTitleNews\"]], on=\"title\", how=\"left\")"
   ]
  },
  {
   "cell_type": "code",
   "execution_count": 39,
   "metadata": {},
   "outputs": [
    {
     "data": {
      "text/html": [
       "<div>\n",
       "<style scoped>\n",
       "    .dataframe tbody tr th:only-of-type {\n",
       "        vertical-align: middle;\n",
       "    }\n",
       "\n",
       "    .dataframe tbody tr th {\n",
       "        vertical-align: top;\n",
       "    }\n",
       "\n",
       "    .dataframe thead th {\n",
       "        text-align: right;\n",
       "    }\n",
       "</style>\n",
       "<table border=\"1\" class=\"dataframe\">\n",
       "  <thead>\n",
       "    <tr style=\"text-align: right;\">\n",
       "      <th></th>\n",
       "      <th>topicNum</th>\n",
       "      <th>prop</th>\n",
       "      <th>words</th>\n",
       "    </tr>\n",
       "  </thead>\n",
       "  <tbody>\n",
       "    <tr>\n",
       "      <th>0</th>\n",
       "      <td>0</td>\n",
       "      <td>0.04205</td>\n",
       "      <td>business people you're businesses clients comp...</td>\n",
       "    </tr>\n",
       "    <tr>\n",
       "      <th>49</th>\n",
       "      <td>49</td>\n",
       "      <td>0.01523</td>\n",
       "      <td>real estate property home market house you're ...</td>\n",
       "    </tr>\n",
       "    <tr>\n",
       "      <th>62</th>\n",
       "      <td>62</td>\n",
       "      <td>0.02912</td>\n",
       "      <td>marketing sales product brand business product...</td>\n",
       "    </tr>\n",
       "    <tr>\n",
       "      <th>82</th>\n",
       "      <td>82</td>\n",
       "      <td>0.04043</td>\n",
       "      <td>company business companies industry technology...</td>\n",
       "    </tr>\n",
       "  </tbody>\n",
       "</table>\n",
       "</div>"
      ],
      "text/plain": [
       "    topicNum     prop                                              words\n",
       "0          0  0.04205  business people you're businesses clients comp...\n",
       "49        49  0.01523  real estate property home market house you're ...\n",
       "62        62  0.02912  marketing sales product brand business product...\n",
       "82        82  0.04043  company business companies industry technology..."
      ]
     },
     "execution_count": 39,
     "metadata": {},
     "output_type": "execute_result"
    }
   ],
   "source": [
    "topicWords = pd.read_csv(\"/shared/3/projects/benlitterer/podcastData/topicModelling/100/transcripts/topic_keys.txt\", sep=\"\\t\", names=[\"topicNum\", \"prop\", \"words\"])\n",
    "bizTopics100 = [0, 49, 82, 62]\n",
    "topicWords[topicWords[\"topicNum\"].isin(bizTopics100)]"
   ]
  },
  {
   "cell_type": "code",
   "execution_count": 40,
   "metadata": {},
   "outputs": [],
   "source": [
    "#what if we get difference from mean topic representation? \n",
    "#topicProps = topicKeys[topicKeys[\"topicNum\"].isin(toDrop) == False]\n",
    "#topicProps = topicProps.sort_values(\"topicNum\")[\"proportion\"]\n",
    "#df[\"topTopicRelative\"] = df.drop(columns=toDrop).loc[:,0:99].apply(lambda row: row - topicProps, axis=1) #.apply(np.argmax, axis=1)"
   ]
  },
  {
   "cell_type": "code",
   "execution_count": 41,
   "metadata": {},
   "outputs": [],
   "source": [
    "#get the top RJ topic \n",
    "rjTopicsPath = \"/shared/3/projects/benlitterer/podcastData/topicModelling/200/transcripts/doc_topics.txt\"\n",
    "rjTopics = pd.read_csv(rjTopicsPath, sep=\"\\t\", header=None, index_col=0)"
   ]
  },
  {
   "cell_type": "code",
   "execution_count": 42,
   "metadata": {},
   "outputs": [],
   "source": [
    "rjTopics.columns = [\"potentialOutPath\"] + list(range(0, 200))"
   ]
  },
  {
   "cell_type": "code",
   "execution_count": 43,
   "metadata": {},
   "outputs": [],
   "source": [
    "df[\"cleanDatesLoc\"] = pd.to_datetime(df[\"cleanDatesLoc\"], unit=\"ms\") "
   ]
  },
  {
   "cell_type": "code",
   "execution_count": 44,
   "metadata": {},
   "outputs": [
    {
     "name": "stderr",
     "output_type": "stream",
     "text": [
      "/tmp/ipykernel_2686696/1141725532.py:11: FutureWarning: The provided callable <built-in function max> is currently using DataFrameGroupBy.max. In a future version of pandas, the provided callable will be used directly. To keep current behavior pass the string \"max\" instead.\n",
      "  rjGrouped = rjGrouped.groupby(\"title\").agg(max)\n"
     ]
    }
   ],
   "source": [
    "#we want to merge in title, merge by title, and find the highest RJ topic for each title \n",
    "rjGrouped = pd.merge(df[[\"title\", \"potentialOutPath\", \"cleanDatesLoc\"]], rjTopics, on=\"potentialOutPath\", how=\"inner\") \n",
    "\n",
    "#consider only episodes after george floyd's murder \n",
    "rjGrouped = rjGrouped[rjGrouped[\"cleanDatesLoc\"] > \"2020-05-25\"]\n",
    "\n",
    "#take the max, because we want the episode where racial justice is discussed the most \n",
    "#we only care about a subset of columns! \n",
    "RJCols = [5, 13, 57, 69, 159, 164]\n",
    "rjGrouped = rjGrouped[[\"title\"] + RJCols] \n",
    "rjGrouped = rjGrouped.groupby(\"title\").agg(max)\n",
    "\n",
    "#get the most represented category! \n",
    "#and the max val for that category \n",
    "rjGrouped[\"topTopicVal\"] = rjGrouped.apply(max, axis=1)\n",
    "rjGrouped[\"topTransTopic\"] = rjGrouped.apply(assignCat, args=[RJCols], axis=1)\n",
    "\n",
    "RJ_CUTOFF = .05\n",
    "rjGrouped = rjGrouped[rjGrouped[\"topTopicVal\"] > RJ_CUTOFF]"
   ]
  },
  {
   "cell_type": "code",
   "execution_count": 45,
   "metadata": {},
   "outputs": [
    {
     "name": "stdout",
     "output_type": "stream",
     "text": [
      "searching george floyd\n",
      "searched george floyd\n",
      "searching race\n",
      "searched race\n",
      "searching black\n",
      "searched black\n",
      "searching protest\n",
      "searched protest\n"
     ]
    }
   ],
   "source": [
    "mentionsList = {}\n",
    "terms = [\"george floyd\", \"race\", \"black\", \"protest\"]\n",
    "colNameList = [\"gfMentions\", \"raceMentions\", \"blackMentions\", \"protestMentions\"]\n",
    "\n",
    "for i, term in enumerate(terms): \n",
    "    print(f\"searching {term}\")\n",
    "    currMentions = df[[\"transcript\", \"title\", \"potentialOutPath\"]]\n",
    "    currMentions = currMentions[\"transcript\"].apply(lambda x: re.search(term, x.lower()) != None)\n",
    "    print(f\"searched {term}\")\n",
    "\n",
    "    mentionsList[colNameList[i]] = list(currMentions)"
   ]
  },
  {
   "cell_type": "code",
   "execution_count": 46,
   "metadata": {},
   "outputs": [],
   "source": [
    "mentionsDf = pd.DataFrame(mentionsList)\n",
    "mentionsDf[\"title\"] = df[\"title\"]\n",
    "mentionsDf = mentionsDf.groupby(\"title\").agg(\"max\")"
   ]
  },
  {
   "cell_type": "code",
   "execution_count": 47,
   "metadata": {},
   "outputs": [],
   "source": [
    "#dataframes to quickly get metadata for a particular \n",
    "#topicRefDf = df[[\"topTopic\", \"title\"]].set_index(\"topTopic\")\n",
    "\n",
    "refDf = df[[\"category1\", \"title\", \"transTitleTopic\", \"transTitleBusiness\", \"transTitleSports\", \"transTitleNews\" ]].drop_duplicates(\"title\").set_index(\"title\").fillna(\"None\")\n",
    "\n",
    "#add node attribute of category \n",
    "#get dictionary of rss feeds and categories \n",
    "#catRef = df[[\"rssUrl\", \"category1\", \"title\"]].drop_duplicates().set_index(\"rssUrl\")\n",
    "for node in guestGraph.nodes(): \n",
    "    nodeCat = refDf.loc[node, \"category1\"]\n",
    "    nodeTopic = refDf.loc[node, \"transTitleTopic\"]\n",
    "\n",
    "    for catName in refDf.columns: \n",
    "        nodeVal = refDf.loc[node, catName]\n",
    "        if nodeVal != None: \n",
    "            guestGraph.nodes[node][catName] = nodeVal\n",
    "        else: \n",
    "            guestGraph.nodes[node][catName] = \"None\" \n",
    "\n",
    "    #now do the same thing for the racial justice attributes \n",
    "    if node in rjGrouped.index: \n",
    "        guestGraph.nodes[node][\"hasRJTopic\"] = \"TRUE\"\n",
    "        guestGraph.nodes[node][\"maxRJTopic\"] = rjGrouped.loc[node, \"topTransTopic\"]\n",
    "    else: \n",
    "        guestGraph.nodes[node][\"hasRJTopic\"] = \"FALSE\"\n",
    "        guestGraph.nodes[node][\"maxRJTopic\"] = \"None\" \n",
    "\n",
    "    for col in colNameList: \n",
    "        nodeVal = mentionsDf.loc[node, col]\n",
    "        guestGraph.nodes[node][col] = str(nodeVal)\n"
   ]
  },
  {
   "cell_type": "code",
   "execution_count": 48,
   "metadata": {},
   "outputs": [],
   "source": [
    "nx.write_gexf(guestGraph, f\"/shared/3/projects/benlitterer/podcastData/network/BottomNames_{N_TOPICS}Topics_graph.gexf\")"
   ]
  },
  {
   "cell_type": "code",
   "execution_count": 49,
   "metadata": {},
   "outputs": [],
   "source": [
    "nodeDict = guestGraph.nodes.items()"
   ]
  },
  {
   "cell_type": "code",
   "execution_count": 50,
   "metadata": {},
   "outputs": [],
   "source": [
    "#output edgelist\n",
    "intGraph = nx.convert_node_labels_to_integers(guestGraph)\n",
    "components = [c for c in sorted(nx.connected_components(intGraph), key=len, reverse=True)]\n",
    "componentLens = [len(c) for c in components]\n",
    "compGraph = intGraph.subgraph(components[0])\n",
    "\n",
    "nx.write_edgelist(compGraph, \"/shared/3/projects/benlitterer/podcastData/network/BottomNames_edgeList.txt\", data=False) \n",
    "\n",
    "#get mapping from string node-labels to integers \n",
    "#nodes = list(guestGraph.nodes())\n",
    "#nodeDict = dict(zip(nodes, np.arange(0, len(nodes), 1)))\n",
    "\n",
    "\n",
    "#write metadata to file so we can grab it when making the figure!\n",
    "#add index in intGraph as a columns \n",
    "nodeCount = len(list(guestGraph.nodes()))\n",
    "nodeDf = pd.DataFrame.from_dict(dict(intGraph.nodes(data=True)), orient='index')\n",
    "nodeDf[\"nodeInt\"] = list(range(nodeCount))"
   ]
  },
  {
   "cell_type": "code",
   "execution_count": 51,
   "metadata": {},
   "outputs": [],
   "source": [
    "nodePath=\"/shared/3/projects/benlitterer/podcastData/network/nodeMetadata40Topics.csv\"\n",
    "nodeDf.to_csv(nodePath, index=False)"
   ]
  },
  {
   "cell_type": "code",
   "execution_count": 52,
   "metadata": {},
   "outputs": [],
   "source": [
    "edgeListDf = pd.read_csv(\"/shared/3/projects/benlitterer/podcastData/network/BottomNames_edgeList.txt\", sep=\" \")"
   ]
  },
  {
   "cell_type": "code",
   "execution_count": 53,
   "metadata": {},
   "outputs": [
    {
     "data": {
      "text/plain": [
       "10649"
      ]
     },
     "execution_count": 53,
     "metadata": {},
     "output_type": "execute_result"
    }
   ],
   "source": [
    "len(set(list(edgeListDf[\"0\"]) + list(edgeListDf[\"1\"])))"
   ]
  },
  {
   "cell_type": "code",
   "execution_count": 54,
   "metadata": {},
   "outputs": [
    {
     "data": {
      "text/plain": [
       "28981"
      ]
     },
     "execution_count": 54,
     "metadata": {},
     "output_type": "execute_result"
    }
   ],
   "source": [
    "len(edgeListDf)"
   ]
  },
  {
   "cell_type": "code",
   "execution_count": null,
   "metadata": {},
   "outputs": [],
   "source": []
  }
 ],
 "metadata": {
  "kernelspec": {
   "display_name": "Python 3 (ipykernel)",
   "language": "python",
   "name": "python3"
  }
 },
 "nbformat": 4,
 "nbformat_minor": 2
}
