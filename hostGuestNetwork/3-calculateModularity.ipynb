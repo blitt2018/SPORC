{
 "cells": [
  {
   "cell_type": "code",
   "execution_count": 2,
   "metadata": {},
   "outputs": [],
   "source": [
    "import networkx as nx\n",
    "import pandas as pd"
   ]
  },
  {
   "cell_type": "code",
   "execution_count": 3,
   "metadata": {},
   "outputs": [],
   "source": [
    "guestGraph = nx.read_gexf(\"/shared/3/projects/benlitterer/podcastData/network/BottomNames_40Topics_graph.gexf\")"
   ]
  },
  {
   "cell_type": "code",
   "execution_count": 4,
   "metadata": {},
   "outputs": [],
   "source": [
    "comps = [c for c in sorted(nx.connected_components(guestGraph), key=len, reverse=True)]\n",
    "compSize = [len(c) for c in sorted(nx.connected_components(guestGraph), key=len, reverse=True)]"
   ]
  },
  {
   "cell_type": "code",
   "execution_count": 5,
   "metadata": {},
   "outputs": [
    {
     "name": "stdout",
     "output_type": "stream",
     "text": [
      "# nodes in graph:23471\n",
      "# nodes in largest component:10480\n"
     ]
    }
   ],
   "source": [
    "print(f\"# nodes in graph:{sum(compSize)}\")\n",
    "print(f\"# nodes in largest component:{compSize[0]}\")"
   ]
  },
  {
   "cell_type": "code",
   "execution_count": 6,
   "metadata": {},
   "outputs": [
    {
     "name": "stdout",
     "output_type": "stream",
     "text": [
      "Modularity - Entire Graph\n"
     ]
    },
    {
     "name": "stdout",
     "output_type": "stream",
     "text": [
      "sports:0.13827378077073377\n",
      "business:0.12581258488003622\n",
      "news:0.05342585387493458\n",
      "religion:0.06062725249256748\n",
      "society:0.016079749956025395\n",
      "education:0.01456246768866468\n"
     ]
    }
   ],
   "source": [
    "print(\"Modularity - Entire Graph\")\n",
    "currCat = \"society\"\n",
    "catList = [\"sports\", \"business\", \"news\", \"religion\", \"society\", \"education\"]\n",
    "for currCat in catList: \n",
    "    nodeList = [x for x,y in guestGraph.nodes(data=True) if y[\"category1\"] == currCat]\n",
    "    nodeListComp = [x for x,y in guestGraph.nodes(data=True) if y[\"category1\"] != currCat]\n",
    "    currMod = nx.community.modularity(guestGraph, [nodeList, nodeListComp])\n",
    "    print(f\"{currCat}:{currMod}\")"
   ]
  },
  {
   "cell_type": "code",
   "execution_count": 7,
   "metadata": {},
   "outputs": [],
   "source": [
    "compGraph = guestGraph.subgraph(comps[0])"
   ]
  },
  {
   "cell_type": "code",
   "execution_count": 8,
   "metadata": {},
   "outputs": [
    {
     "name": "stdout",
     "output_type": "stream",
     "text": [
      "Modularity - Connected Component\n",
      "sports:0.15531520388967235\n",
      "business:0.134041767515541\n",
      "news:0.06376224199896338\n",
      "religion:0.045094953941088964\n",
      "society:0.013018967471973536\n",
      "education:0.010929258267140224\n"
     ]
    }
   ],
   "source": [
    "print(\"Modularity - Connected Component\")\n",
    "catList = [\"sports\", \"business\", \"news\", \"religion\", \"society\", \"education\"]\n",
    "for currCat in catList: \n",
    "    nodeList = [x for x,y in compGraph.nodes(data=True) if y[\"category1\"] == currCat]\n",
    "    nodeListComp = [x for x,y in compGraph.nodes(data=True) if y[\"category1\"] != currCat]\n",
    "    currMod = nx.community.modularity(compGraph, [nodeList, nodeListComp])\n",
    "    print(f\"{currCat}:{currMod}\")"
   ]
  },
  {
   "cell_type": "code",
   "execution_count": 12,
   "metadata": {},
   "outputs": [
    {
     "data": {
      "text/plain": [
       "23"
      ]
     },
     "execution_count": 12,
     "metadata": {},
     "output_type": "execute_result"
    }
   ],
   "source": []
  },
  {
   "cell_type": "code",
   "execution_count": 13,
   "metadata": {},
   "outputs": [
    {
     "name": "stdout",
     "output_type": "stream",
     "text": [
      "modularity is 0.2553963459476096 across 23 categories\n"
     ]
    }
   ],
   "source": [
    "#what's the overall modularity \n",
    "#seperate the podcasts into communities by category \n",
    "commDict = {}\n",
    "for x,y in compGraph.nodes(data=True): \n",
    "    currCat = y[\"category1\"] \n",
    "    currNode = x\n",
    "    if currCat not in commDict: \n",
    "        commDict[currCat] = [currNode]\n",
    "    else: \n",
    "        commDict[currCat].append(currNode)\n",
    "\n",
    "overallMod = nx.community.modularity(compGraph, [item for item in commDict.values()])\n",
    "print(f\"modularity for connected componenet is {overallMod} across {len(list(commDict.keys()))} categories\")"
   ]
  },
  {
   "cell_type": "code",
   "execution_count": 15,
   "metadata": {},
   "outputs": [
    {
     "name": "stdout",
     "output_type": "stream",
     "text": [
      "modularity for connected componenet is 0.2609443853651118 across 27 categories\n"
     ]
    }
   ],
   "source": [
    "\n",
    "#what's the overall modularity \n",
    "#seperate the podcasts into communities by category \n",
    "commDict = {}\n",
    "for x,y in guestGraph.nodes(data=True): \n",
    "    currCat = y[\"category1\"] \n",
    "    currNode = x\n",
    "    if currCat not in commDict: \n",
    "        commDict[currCat] = [currNode]\n",
    "    else: \n",
    "        commDict[currCat].append(currNode)\n",
    "\n",
    "overallMod = nx.community.modularity(guestGraph, [item for item in commDict.values()])\n",
    "print(f\"modularity for connected componenet is {overallMod} across {len(list(commDict.keys()))} categories\")"
   ]
  },
  {
   "cell_type": "code",
   "execution_count": null,
   "metadata": {},
   "outputs": [],
   "source": []
  }
 ],
 "metadata": {
  "kernelspec": {
   "display_name": "Python 3 (ipykernel)",
   "language": "python",
   "name": "python3"
  }
 },
 "nbformat": 4,
 "nbformat_minor": 2
}
